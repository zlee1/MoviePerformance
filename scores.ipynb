{
 "cells": [
  {
   "cell_type": "markdown",
   "metadata": {},
   "source": [
    "# Generate a Cast/Crew Score of all IMDb Movies"
   ]
  },
  {
   "cell_type": "markdown",
   "metadata": {},
   "source": [
    "Using the cast and crew (writers and directors) of a film, a score is generated for each movie in the IMDb dataset. Despite being multithreaded, running this is a very time-consuming ordeal. The program is taking an in-depth look at every actor, director, and writer involved in each IMDb-listed movie. "
   ]
  },
  {
   "cell_type": "markdown",
   "metadata": {},
   "source": [
    "## Imports"
   ]
  },
  {
   "cell_type": "code",
   "execution_count": null,
   "metadata": {},
   "outputs": [],
   "source": [
    "import pandas as pd\n",
    "import numpy as np\n",
    "from datetime import datetime\n",
    "import threading\n",
    "import math\n",
    "import sys"
   ]
  },
  {
   "cell_type": "markdown",
   "metadata": {},
   "source": [
    "## Reading, Cleaning, and Merging Data"
   ]
  },
  {
   "cell_type": "code",
   "execution_count": null,
   "metadata": {},
   "outputs": [],
   "source": [
    "# Read data into DataFrames\n",
    "\n",
    "name_basics = pd.read_csv(\"data/name.basics.tsv.gz\", compression = 'gzip', sep = '\\t', low_memory = False)\n",
    "title_basics_raw = pd.read_csv(\"data/title.basics.tsv.gz\", compression = 'gzip', sep = '\\t', low_memory = False)\n",
    "title_crew = pd.read_csv(\"data/title.crew.tsv.gz\", compression = 'gzip', sep = '\\t', low_memory = False)\n",
    "title_principals_raw = pd.read_csv(\"data/title.principals.tsv.gz\", compression = 'gzip', sep = '\\t', low_memory = False)\n",
    "title_ratings_raw = pd.read_csv(\"data/title.ratings.tsv.gz\", compression = 'gzip', sep = '\\t', low_memory = False)"
   ]
  },
  {
   "cell_type": "code",
   "execution_count": null,
   "metadata": {},
   "outputs": [],
   "source": [
    "# Cleaning and merging data\n",
    "\n",
    "global title_ratings\n",
    "global title_basics\n",
    "global title_principals\n",
    "\n",
    "# Looking back, this was not done properly. I should have kept things separate, but I wanted to ensure that \n",
    "# each DataFrame only had the rows that met conditions applied to the others.\n",
    "title_ratings = title_ratings_raw.loc[title_ratings_raw['numVotes'] > 100]\n",
    "title_basics = title_basics_raw.loc[title_basics_raw['titleType'] == 'movie']\n",
    "title_basics = title_basics.loc[~title_basics['genres'].str.contains('Documentary')]\n",
    "title_basics = pd.merge(title_basics, title_ratings, how='inner', on='tconst').reset_index()\n",
    "title_ratings = title_basics.copy()\n",
    "title_principals = pd.merge(title_basics, title_principals_raw, how='inner', on='tconst').reset_index()"
   ]
  },
  {
   "cell_type": "code",
   "execution_count": null,
   "metadata": {},
   "outputs": [],
   "source": [
    "global scores\n",
    "scores = pd.DataFrame(columns = ['nconst', 'score', 'focus', 'role'])\n",
    "\n",
    "global titleScores\n",
    "titleScores = pd.DataFrame(columns = ['tconst', 'score', 'focus'])\n",
    "\n",
    "# If some calculations have been made already, load what has been saved instead of starting from scratch\n",
    "try:\n",
    "    scores = pd.read_csv('personScores.csv')\n",
    "except:\n",
    "    pass\n",
    "\n",
    "try:\n",
    "    titleScores = pd.read_csv('titleScores.csv')\n",
    "except:\n",
    "    pass"
   ]
  },
  {
   "cell_type": "markdown",
   "metadata": {},
   "source": [
    "## Functions for Generating Scores"
   ]
  },
  {
   "cell_type": "code",
   "execution_count": null,
   "metadata": {},
   "outputs": [],
   "source": [
    "# Retrieve name_basics row for a given actor\n",
    "\n",
    "def getPerson(name = None, nconst = None):\n",
    "    if(nconst != None):\n",
    "        return name_basics.loc[name_basics['nconst'] == nconst]\n",
    "    else:\n",
    "        return name_basics.loc[name_basics['primaryName'] == name]"
   ]
  },
  {
   "cell_type": "code",
   "execution_count": null,
   "metadata": {},
   "outputs": [],
   "source": [
    "# Retrieve works of a given actor\n",
    "\n",
    "def getWorks(name = None, nconst = None, role = 'a'):\n",
    "    if(nconst == None):\n",
    "        nconst = list(getPerson(name=name)['nconst'])[0]\n",
    "        \n",
    "    # Separate scores for people's work as actors, directors, and writers. This accounts for people who may be \n",
    "    # excellent at one job, but not so spectacular at another. \n",
    "    # Actor/Actress\n",
    "    if(role == 'a'):\n",
    "        works = title_principals.loc[title_principals['nconst'] == nconst]\n",
    "\n",
    "        # Need to account for actor and actress titles\n",
    "        works = works.loc[title_principals['category'] == 'actor'].append(works.loc[title_principals['category'] == 'actress'])\n",
    "\n",
    "    # Director\n",
    "    elif(role == 'd'):\n",
    "        works = title_crew.loc[title_crew['directors'].str.contains(nconst)]\n",
    "\n",
    "    # Writer\n",
    "    elif(role == 'w'):\n",
    "        works = title_crew.loc[title_crew['writers'].str.contains(nconst)]\n",
    "\n",
    "    return works"
   ]
  },
  {
   "cell_type": "code",
   "execution_count": null,
   "metadata": {},
   "outputs": [],
   "source": [
    "# Calculate a person's score based on film ratings and number of votes\n",
    "\n",
    "def generateScore(name = None, nconst = None, role = 'a', focus='rating'):\n",
    "    global scores\n",
    "    \n",
    "    # Find the unique id of the person if it was not provided\n",
    "    if(nconst == None):\n",
    "        nconst = list(name_basics.loc[name_basics['primaryName'] == name]['nconst'])[0]\n",
    "        \n",
    "    # If the person's score has already been generated, return it to save time\n",
    "    if(nconst in scores.values):\n",
    "        person = scores.loc[scores['nconst'] == nconst]\n",
    "        if(list(person['focus'])[0] == focus and list(person['role'])[0] == role):\n",
    "            return list(person['score'])[0]\n",
    "    \n",
    "    works = getWorks(name=None, nconst=nconst, role=role)\n",
    "\n",
    "    filmScores = []\n",
    "    for index, row in works.iterrows():\n",
    "        titles = title_ratings.loc[title_ratings['tconst'] == row['tconst']]\n",
    "        # Get the average rating and number of votes for each film\n",
    "        rating = list(titles['averageRating'])[0]\n",
    "        votes = list(titles['numVotes'])[0]\n",
    "\n",
    "        # If the focus is on predicting rating, put more emphasis on film rating for score\n",
    "        # If the focus is on predicting popularity, put more emphasis on votes for score\n",
    "        if(rating != np.nan and votes != np.nan and votes > 100):\n",
    "            if(focus == 'rating'):\n",
    "                filmScores.append(rating*rating*votes/10000)\n",
    "            elif(focus == 'popularity'):\n",
    "                filmScores.append(rating*votes*votes/1000000)\n",
    "           \n",
    "    # If an error is encountered, the score is None. I have not been able to find what causes the errors.\n",
    "    # I suspect missing data, but it could definitely be a problem on my end. \n",
    "    try:\n",
    "        if(np.nan in filmScores):\n",
    "            filmScores = filmScores.remove(np.nan)\n",
    "        score = int(np.mean(filmScores))\n",
    "    except:\n",
    "        score = None\n",
    "\n",
    "    scores = scores.append({'nconst': nconst, 'score': score, 'focus': focus, 'role': role}, ignore_index=True)\n",
    "    # Overall person's score is median of film scores\n",
    "    return score"
   ]
  },
  {
   "cell_type": "code",
   "execution_count": null,
   "metadata": {},
   "outputs": [],
   "source": [
    "# Calculate the score of a title from its cast and crew\n",
    "\n",
    "def generateTitleScore(title=None, tconst=None, focus='rating'):\n",
    "    global titleScores\n",
    "    \n",
    "    # Find the unique id of the title if it has not been provided\n",
    "    if(tconst == None):\n",
    "        tconst = list(title_basics.loc[title_basics['primaryTitle'].str.lower() == title.lower()]['tconst'])[0]\n",
    "        \n",
    "    # If the title's score has already been generated, return it to save time\n",
    "    if(tconst in titleScores.values):\n",
    "        t = titleScores.loc[titleScores['tconst'] == tconst]\n",
    "        if(list(t['focus'])[0] == focus):\n",
    "            return list(t['score'])[0]\n",
    "    \n",
    "    # Retrieve the main people involved in the movie. Actors, directors, writers, and other crew. \n",
    "    principals = title_principals.loc[title_principals['tconst'] == tconst]\n",
    "    \n",
    "    principalScores = []\n",
    "    \n",
    "    # Generate scores of principals\n",
    "    for index, row in principals.iterrows():\n",
    "        if(row['category'] == 'actor' or row['category'] == 'actress'):\n",
    "            # Put a higher focus on actors, as the general population seems more \n",
    "            # interested in actors than writers and directors\n",
    "            principalScores.append(generateScore(nconst = row['nconst'])*2)\n",
    "        elif(row['category'] == 'director'):\n",
    "            principalScores.append(generateScore(nconst = row['nconst'], role='d'))\n",
    "        elif(row['category'] == 'writer'):\n",
    "            principalScores.append(generateScore(nconst = row['nconst'], role='w'))\n",
    "    \n",
    "    # If an error is encountered, the score is None. I have not been able to find what causes the errors.\n",
    "    # I suspect missing data, but it could definitely be a problem on my end. \n",
    "    try:\n",
    "        if(np.nan in principalScores):\n",
    "            principalScores = principalScores.remove(np.nan)\n",
    "        score = int(np.mean(principalScores))\n",
    "    except:\n",
    "        score = None\n",
    "\n",
    "    titleScores = titleScores.append({'tconst': tconst, 'score': score, 'focus': focus}, ignore_index=True)\n",
    "\n",
    "    return score"
   ]
  },
  {
   "cell_type": "markdown",
   "metadata": {},
   "source": [
    "## Splitting up Data and Threading"
   ]
  },
  {
   "cell_type": "code",
   "execution_count": null,
   "metadata": {},
   "outputs": [],
   "source": [
    "# Calculate all title scores\n",
    "\n",
    "def allScores(nThreads, focus='rating'):\n",
    "    # Break points for binning of dataset\n",
    "    points = np.arange(0, title_basics.shape[0], math.ceil(title_basics.shape[0]/nThreads))\n",
    "    \n",
    "    # Delegate a section of the data to each of the threads\n",
    "    for i in range(nThreads):\n",
    "        if(len(points) == 1):\n",
    "            threading.Thread(target = scoreRange, args = (points[0], title_basics.shape[0], i)).start()\n",
    "        else:\n",
    "            threading.Thread(target = scoreRange, args = (points[0], points[1]-1, i)).start()\n",
    "            points = points[1:]"
   ]
  },
  {
   "cell_type": "code",
   "execution_count": null,
   "metadata": {},
   "outputs": [],
   "source": [
    "# Calculate title scores wthin a supplied range of indexes. This is the function run by each thread. \n",
    "\n",
    "def scoreRange(start, stop, thread, focus='rating'):\n",
    "    global title_ratings\n",
    "    global title_basics\n",
    "    global title_principals\n",
    "    \n",
    "    count = 0\n",
    "    # Loop through the bin of data and calculate scores. \n",
    "    for index, row in title_basics.iloc[start:stop, :].iterrows():\n",
    "        try:\n",
    "            tconst = row['tconst']\n",
    "            generateTitleScore(tconst = tconst)\n",
    "            \n",
    "            # Save every 10th score generated\n",
    "            if(count%10 == 0):\n",
    "                # Every 3rd save should be a backup. This prevents loss of data from unexpected shutdowns. \n",
    "                if(count%30 == 0):\n",
    "                    titleScores.to_csv('titleScoresBackup.csv', index=False)\n",
    "                    scores.to_csv('personScoresBackup.csv', index=False)\n",
    "                else:\n",
    "                    titleScores.to_csv('titleScores.csv', index=False)\n",
    "                    scores.to_csv('personScores.csv', index=False)\n",
    "                    \n",
    "                # Output the current progress as percentage of total rows calculated\n",
    "                print(titleScores.shape[0]/title_basics.shape[0]*100, \"from thread\", thread)\n",
    "\n",
    "            count+=1\n",
    "            \n",
    "        except Exception as e:\n",
    "            # Save before stopping\n",
    "            if(e == KeyboardInterrupt):\n",
    "                scores.to_csv('personScores.csv')\n",
    "                titleScores.to_csv('titleScores.csv')\n",
    "                sys.exit()\n",
    "                \n",
    "    tScores = titleScores.to_csv('titleScores.csv', index=False)\n",
    "    pScores = scores.to_csv('personScores.csv', index=False)"
   ]
  },
  {
   "cell_type": "code",
   "execution_count": null,
   "metadata": {},
   "outputs": [],
   "source": [
    "allScores(16)"
   ]
  },
  {
   "cell_type": "code",
   "execution_count": null,
   "metadata": {},
   "outputs": [],
   "source": [
    "# A final save just to be sure\n",
    "\n",
    "tScores = titleScores.to_csv('titleScores.csv', index=False)\n",
    "pScores = scores.to_csv('personScores.csv', index=False)"
   ]
  }
 ],
 "metadata": {
  "kernelspec": {
   "display_name": "Python 3",
   "language": "python",
   "name": "python3"
  },
  "language_info": {
   "codemirror_mode": {
    "name": "ipython",
    "version": 3
   },
   "file_extension": ".py",
   "mimetype": "text/x-python",
   "name": "python",
   "nbconvert_exporter": "python",
   "pygments_lexer": "ipython3",
   "version": "3.8.5"
  }
 },
 "nbformat": 4,
 "nbformat_minor": 4
}
